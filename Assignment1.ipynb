{
 "cells": [
  {
   "cell_type": "markdown",
   "id": "606af255-f381-4682-9116-7783b16754d2",
   "metadata": {},
   "source": [
    "Q1"
   ]
  },
  {
   "cell_type": "code",
   "execution_count": 22,
   "id": "b5d5d873-edb2-4027-a998-1119d9ef66ad",
   "metadata": {},
   "outputs": [],
   "source": [
    "a = 'aman'"
   ]
  },
  {
   "cell_type": "code",
   "execution_count": 23,
   "id": "d6a4ff6b-5824-447c-87cc-ba28847809f7",
   "metadata": {},
   "outputs": [
    {
     "data": {
      "text/plain": [
       "str"
      ]
     },
     "execution_count": 23,
     "metadata": {},
     "output_type": "execute_result"
    }
   ],
   "source": [
    "type(a)"
   ]
  },
  {
   "cell_type": "code",
   "execution_count": 24,
   "id": "496e96e5-ad27-4e03-8b88-b5bc1f162539",
   "metadata": {},
   "outputs": [],
   "source": [
    "a =[1,2,3,4,'aman', 'salmani',True, False, 75.32]"
   ]
  },
  {
   "cell_type": "code",
   "execution_count": 25,
   "id": "15fe89ea-b310-4cf8-966b-13f46836b87b",
   "metadata": {},
   "outputs": [
    {
     "data": {
      "text/plain": [
       "list"
      ]
     },
     "execution_count": 25,
     "metadata": {},
     "output_type": "execute_result"
    }
   ],
   "source": [
    "type(a)"
   ]
  },
  {
   "cell_type": "code",
   "execution_count": 26,
   "id": "ead869df-9cd7-4389-9068-532663ddd11c",
   "metadata": {},
   "outputs": [],
   "source": [
    "a = 78.46"
   ]
  },
  {
   "cell_type": "code",
   "execution_count": 27,
   "id": "2c944a63-ffab-4220-9660-d8d9c17108ff",
   "metadata": {},
   "outputs": [
    {
     "data": {
      "text/plain": [
       "float"
      ]
     },
     "execution_count": 27,
     "metadata": {},
     "output_type": "execute_result"
    }
   ],
   "source": [
    "type(a)"
   ]
  },
  {
   "cell_type": "code",
   "execution_count": 32,
   "id": "01cba3af-0812-474b-8b57-f97321b20070",
   "metadata": {},
   "outputs": [],
   "source": [
    "a = (\"apple\", \"bannan\", \"orange\")"
   ]
  },
  {
   "cell_type": "code",
   "execution_count": 33,
   "id": "4457e98b-8908-4b5f-af81-890cf4a63595",
   "metadata": {},
   "outputs": [
    {
     "data": {
      "text/plain": [
       "tuple"
      ]
     },
     "execution_count": 33,
     "metadata": {},
     "output_type": "execute_result"
    }
   ],
   "source": [
    "type(a)"
   ]
  },
  {
   "cell_type": "markdown",
   "id": "e7e8a648-0c6b-475f-96a6-aa4f3b31f926",
   "metadata": {},
   "source": [
    "Q2"
   ]
  },
  {
   "cell_type": "code",
   "execution_count": 51,
   "id": "e9f1e421-fda6-4141-9af6-c226dadae4fb",
   "metadata": {},
   "outputs": [],
   "source": [
    "var1=''\n",
    "var2=\"[1,2,3,'aman', True]\"\n",
    "var3=['ds','ml','java','nlp']\n",
    "var4=1"
   ]
  },
  {
   "cell_type": "code",
   "execution_count": 53,
   "id": "21249e11-93cf-4e67-859e-5a208ecf7e5b",
   "metadata": {},
   "outputs": [
    {
     "name": "stdout",
     "output_type": "stream",
     "text": [
      "<class 'str'>\n",
      "<class 'str'>\n",
      "<class 'list'>\n",
      "<class 'int'>\n"
     ]
    }
   ],
   "source": [
    "print(type(var1))\n",
    "print(type(var2))\n",
    "print(type(var3))\n",
    "print(type(var4))"
   ]
  },
  {
   "cell_type": "markdown",
   "id": "00e19bd8-8321-4eb1-9962-07164778bd5d",
   "metadata": {},
   "source": [
    " Q3"
   ]
  },
  {
   "cell_type": "markdown",
   "id": "270f2ead-c0b7-46d9-8415-9deb71307118",
   "metadata": {},
   "source": [
    "(i)' / ' it is also known as division operator. Division Operators allow you to divide two numbers and return a quotient. "
   ]
  },
  {
   "cell_type": "code",
   "execution_count": 55,
   "id": "73184c9b-a022-4ddb-bbe6-598c5c20a0a8",
   "metadata": {},
   "outputs": [
    {
     "name": "stdout",
     "output_type": "stream",
     "text": [
      "5\n"
     ]
    }
   ],
   "source": [
    "#Example\n",
    "a =10\n",
    "b = 2\n",
    "c =a/b\n",
    "print(int(c))"
   ]
  },
  {
   "cell_type": "code",
   "execution_count": 57,
   "id": "db2c43fb-56f6-4396-baef-a946aecb55bf",
   "metadata": {},
   "outputs": [
    {
     "name": "stdout",
     "output_type": "stream",
     "text": [
      "-6\n"
     ]
    }
   ],
   "source": [
    "a = -30\n",
    "b = 5\n",
    "print(int(a/b))"
   ]
  },
  {
   "cell_type": "markdown",
   "id": "83ba4a63-c5fe-4373-886b-e92675ca058b",
   "metadata": {},
   "source": [
    "(ii) % The % symbol in python is called Modulous Operator. The Modulus operator returns the reminder of a division of one number by another. "
   ]
  },
  {
   "cell_type": "code",
   "execution_count": 58,
   "id": "6d46b004-54a6-4dbd-b49a-62ab50b689c5",
   "metadata": {},
   "outputs": [
    {
     "name": "stdout",
     "output_type": "stream",
     "text": [
      "4\n"
     ]
    }
   ],
   "source": [
    "#Example\n",
    "a=19\n",
    "b=5\n",
    "c=a%b\n",
    "print(c)"
   ]
  },
  {
   "cell_type": "markdown",
   "id": "3a480139-f4f5-483f-b57b-aa3a836dc68e",
   "metadata": {},
   "source": [
    "(iii) // double forward slash in python is called Floor Division.  Floor Division  is normal division  operator excepts that it returns largest possible integer."
   ]
  },
  {
   "cell_type": "code",
   "execution_count": 60,
   "id": "570e7d83-c191-4785-bfc7-d612b4ffc848",
   "metadata": {},
   "outputs": [
    {
     "name": "stdout",
     "output_type": "stream",
     "text": [
      "11\n"
     ]
    }
   ],
   "source": [
    "#Example1\n",
    "a = 23\n",
    "b = 2\n",
    "c = a//b\n",
    "print(c)\n",
    "\n"
   ]
  },
  {
   "cell_type": "code",
   "execution_count": 62,
   "id": "2b208f86-be33-4d63-a422-b590800fb1ad",
   "metadata": {},
   "outputs": [
    {
     "name": "stdout",
     "output_type": "stream",
     "text": [
      "-3\n"
     ]
    }
   ],
   "source": [
    "#Example2\n",
    "a=-19\n",
    "b=7\n",
    "print(a//b)"
   ]
  },
  {
   "cell_type": "markdown",
   "id": "4d77b548-bdd3-4de3-a022-db722b5eb1bf",
   "metadata": {},
   "source": [
    "(iv) ** this operator is also knows as Exponent operator. The exponentiation ( ** ) operator returns the result of raising the first operand to the power of the second operand."
   ]
  },
  {
   "cell_type": "code",
   "execution_count": 64,
   "id": "92261d9f-183f-4d34-bd3b-b5558bde46b1",
   "metadata": {},
   "outputs": [
    {
     "name": "stdout",
     "output_type": "stream",
     "text": [
      "125\n"
     ]
    }
   ],
   "source": [
    "#example\n",
    "a = 5\n",
    "b =3\n",
    "c = a**b\n",
    "print(c)"
   ]
  },
  {
   "cell_type": "markdown",
   "id": "299d60ab-897e-4f67-a482-92a4e8369cd9",
   "metadata": {},
   "source": [
    "Q4\n"
   ]
  },
  {
   "cell_type": "code",
   "execution_count": 88,
   "id": "1cd146e3-15f5-4380-b832-16903f8044c2",
   "metadata": {},
   "outputs": [
    {
     "name": "stdout",
     "output_type": "stream",
     "text": [
      "<class 'int'>\n",
      "<class 'int'>\n",
      "<class 'int'>\n",
      "<class 'int'>\n",
      "<class 'int'>\n",
      "<class 'str'>\n",
      "<class 'str'>\n",
      "<class 'bool'>\n",
      "<class 'bool'>\n",
      "<class 'float'>\n"
     ]
    }
   ],
   "source": [
    "li=[1,2,3,4,5,\"aman\", \"salmani\", True, False,89.36]\n",
    "for i in li :\n",
    "    print(type(i))\n",
    "\n"
   ]
  },
  {
   "cell_type": "markdown",
   "id": "07356d8d-d3b0-44fb-a177-58cc5db7c1a2",
   "metadata": {},
   "source": [
    "Q6"
   ]
  },
  {
   "cell_type": "code",
   "execution_count": 1,
   "id": "b2cd4504-3384-408b-ba21-c1554f2b865a",
   "metadata": {},
   "outputs": [
    {
     "name": "stdout",
     "output_type": "stream",
     "text": [
      "not divisible by 3\n",
      "not divisible by 3\n",
      "yes it is divisible by 3\n",
      "not divisible by 3\n",
      "not divisible by 3\n",
      "yes it is divisible by 3\n",
      "not divisible by 3\n",
      "not divisible by 3\n",
      "yes it is divisible by 3\n",
      "not divisible by 3\n",
      "not divisible by 3\n",
      "yes it is divisible by 3\n",
      "not divisible by 3\n",
      "not divisible by 3\n",
      "yes it is divisible by 3\n",
      "not divisible by 3\n",
      "not divisible by 3\n",
      "yes it is divisible by 3\n",
      "not divisible by 3\n",
      "not divisible by 3\n",
      "yes it is divisible by 3\n",
      "not divisible by 3\n",
      "not divisible by 3\n",
      "yes it is divisible by 3\n",
      "not divisible by 3\n"
     ]
    }
   ],
   "source": [
    "li=[1,2,3,4,5,6,7,8,9,10,11,12,13,14,15,16,17,18,19,20,21,22,23,24,25]\n",
    "for i in li:\n",
    "    if i%3==0:\n",
    "        print(\"yes it is divisible by 3\")\n",
    "    else:\n",
    "        print(\"not divisible by 3\")\n",
    "    "
   ]
  },
  {
   "cell_type": "markdown",
   "id": "d9e533f0-3860-4b62-b6e7-27f1a444a738",
   "metadata": {},
   "source": [
    "Q7"
   ]
  },
  {
   "cell_type": "raw",
   "id": "ed0cca3a-f61d-4a77-a9dd-3c20944c7edd",
   "metadata": {},
   "source": [
    "Mutable data types : A mutable data types/objects can be changed after it is created. Example : List, Set etc.\n",
    "Immutable dat types :An immutable data types/objects can not be changed after it is created. Example : String, tuple etc.\n"
   ]
  },
  {
   "cell_type": "markdown",
   "id": "4222726b-ee86-4693-9df5-2bc15c0c1dfd",
   "metadata": {},
   "source": [
    "Mutable Example"
   ]
  },
  {
   "cell_type": "code",
   "execution_count": 101,
   "id": "3f031351-8c5c-40f3-9d95-ee0d27450e9e",
   "metadata": {},
   "outputs": [
    {
     "name": "stdout",
     "output_type": "stream",
     "text": [
      "[1, 2, 3, 4, 'Salmani', 'pwskills']\n"
     ]
    }
   ],
   "source": [
    "num=[1,2,3,4,\"aman\",\"pwskills\"]\n",
    "num[4]=\"Salmani\"\n",
    "print(num)"
   ]
  },
  {
   "cell_type": "markdown",
   "id": "d68ef572-fa8f-4857-abde-21415acd92be",
   "metadata": {},
   "source": [
    "Immutable Example"
   ]
  },
  {
   "cell_type": "code",
   "execution_count": 103,
   "id": "f676e6b9-c145-4cbe-9ff9-0a074f11b630",
   "metadata": {},
   "outputs": [
    {
     "ename": "TypeError",
     "evalue": "'str' object does not support item assignment",
     "output_type": "error",
     "traceback": [
      "\u001b[0;31m---------------------------------------------------------------------------\u001b[0m",
      "\u001b[0;31mTypeError\u001b[0m                                 Traceback (most recent call last)",
      "Cell \u001b[0;32mIn [103], line 2\u001b[0m\n\u001b[1;32m      1\u001b[0m s \u001b[38;5;241m=\u001b[39m\u001b[38;5;124m\"\u001b[39m\u001b[38;5;124mpwskills\u001b[39m\u001b[38;5;124m\"\u001b[39m\n\u001b[0;32m----> 2\u001b[0m \u001b[43ms\u001b[49m\u001b[43m[\u001b[49m\u001b[38;5;241;43m1\u001b[39;49m\u001b[43m]\u001b[49m\u001b[38;5;241m=\u001b[39ma\n\u001b[1;32m      3\u001b[0m \u001b[38;5;28mprint\u001b[39m(s)\n",
      "\u001b[0;31mTypeError\u001b[0m: 'str' object does not support item assignment"
     ]
    }
   ],
   "source": [
    "s =\"pwskills\"\n",
    "s[1]=a\n",
    "print(s)"
   ]
  },
  {
   "cell_type": "markdown",
   "id": "a8b55619-5eab-4605-aba0-d99fb4b6d943",
   "metadata": {},
   "source": [
    "Q5"
   ]
  },
  {
   "cell_type": "code",
   "execution_count": 1,
   "id": "f542225b-10e4-4c69-a9a4-7b68a36057c0",
   "metadata": {},
   "outputs": [
    {
     "name": "stdin",
     "output_type": "stream",
     "text": [
      "Enter a number A:  12\n",
      "Enter a number B:  3\n"
     ]
    },
    {
     "name": "stdout",
     "output_type": "stream",
     "text": [
      "3 can divide 1 times into A\n"
     ]
    }
   ],
   "source": [
    "A = int(input(\"Enter a number A: \"))\n",
    "B = int(input(\"Enter a number B: \"))\n",
    "\n",
    "count = 0\n",
    "while A % B == 0:\n",
    "    A = A / B\n",
    "    count += 1\n",
    "\n",
    "if count > 0:\n",
    "    print(f\"{B} can divide {count} times into A\")\n",
    "else:\n",
    "    print(f\"{B} cannot divide A\")\n",
    "    \n",
    "    "
   ]
  },
  {
   "cell_type": "code",
   "execution_count": 11,
   "id": "7b0b26c7-c1d2-4ee3-be27-92e821b217d2",
   "metadata": {},
   "outputs": [
    {
     "ename": "SyntaxError",
     "evalue": "invalid syntax (3368352729.py, line 13)",
     "output_type": "error",
     "traceback": [
      "\u001b[0;36m  Cell \u001b[0;32mIn [11], line 13\u001b[0;36m\u001b[0m\n\u001b[0;31m    esle :\u001b[0m\n\u001b[0m          ^\u001b[0m\n\u001b[0;31mSyntaxError\u001b[0m\u001b[0;31m:\u001b[0m invalid syntax\n"
     ]
    }
   ],
   "source": [
    "a = int(input(\"Enter a number A :  \"))\n",
    "b = int(input(\"Enter a number B :  \"))\n",
    "c = 0\n",
    "while(a>0): \n",
    "    if a>=b:\n",
    "        a = a-b\n",
    "        c+=1\n",
    "    else :\n",
    "        c = 0\n",
    "        break\n",
    "if c:\n",
    "     print(\"yes divisible and{C} times\".format(c))\n",
    "esle :\n",
    "     print(\"not divisible\")\n",
    "        "
   ]
  },
  {
   "cell_type": "code",
   "execution_count": 4,
   "id": "273234f7-a410-4718-bbf9-e5ad94ce80df",
   "metadata": {},
   "outputs": [
    {
     "name": "stdin",
     "output_type": "stream",
     "text": [
      "Enter a number A :   36\n",
      "Enter a number A :   3\n"
     ]
    },
    {
     "name": "stdout",
     "output_type": "stream",
     "text": [
      "Yes Divisible and by 12 times \n"
     ]
    }
   ],
   "source": [
    "a = int(input(\"Enter a number A :  \"))\n",
    "b = int(input(\"Enter a number A :  \"))\n",
    "c = 0\n",
    "\n",
    "while (a>0):\n",
    "    if a >= b:\n",
    "        a = a - b\n",
    "        c += 1\n",
    "    else:\n",
    "        c = 0\n",
    "        break\n",
    "if c:\n",
    "    print(\"Yes Divisible and by {} times \".format(c))\n",
    "else:\n",
    "    print(\"Not Divisible\")"
   ]
  },
  {
   "cell_type": "code",
   "execution_count": null,
   "id": "f059a178-7a01-4b37-8331-3559a2603b3c",
   "metadata": {},
   "outputs": [],
   "source": [
    "\n",
    "\n"
   ]
  },
  {
   "cell_type": "code",
   "execution_count": null,
   "id": "6279c229-8cd2-4423-9fe3-c6f5a8ec45e1",
   "metadata": {},
   "outputs": [],
   "source": []
  },
  {
   "cell_type": "code",
   "execution_count": null,
   "id": "61491165-6a0e-4607-803a-dad8011e4c4c",
   "metadata": {},
   "outputs": [],
   "source": []
  }
 ],
 "metadata": {
  "kernelspec": {
   "display_name": "Python 3 (ipykernel)",
   "language": "python",
   "name": "python3"
  },
  "language_info": {
   "codemirror_mode": {
    "name": "ipython",
    "version": 3
   },
   "file_extension": ".py",
   "mimetype": "text/x-python",
   "name": "python",
   "nbconvert_exporter": "python",
   "pygments_lexer": "ipython3",
   "version": "3.10.6"
  }
 },
 "nbformat": 4,
 "nbformat_minor": 5
}
